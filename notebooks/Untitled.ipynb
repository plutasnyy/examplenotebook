{
 "cells": [
  {
   "cell_type": "code",
   "execution_count": 1,
   "id": "7c23f63b",
   "metadata": {},
   "outputs": [
    {
     "name": "stdout",
     "output_type": "stream",
     "text": [
      "---* 5 *---\n"
     ]
    }
   ],
   "source": [
    "from utils import pretty_print\n",
    "pretty_print(5)"
   ]
  },
  {
   "cell_type": "code",
   "execution_count": null,
   "id": "430885dd",
   "metadata": {},
   "outputs": [],
   "source": []
  }
 ],
 "metadata": {
  "kernelspec": {
   "display_name": "Python 3 (ipykernel)",
   "language": "python",
   "name": "python3"
  },
  "language_info": {
   "codemirror_mode": {
    "name": "ipython",
    "version": 3
   },
   "file_extension": ".py",
   "mimetype": "text/x-python",
   "name": "python",
   "nbconvert_exporter": "python",
   "pygments_lexer": "ipython3",
   "version": "3.9.6"
  }
 },
 "nbformat": 4,
 "nbformat_minor": 5
}
